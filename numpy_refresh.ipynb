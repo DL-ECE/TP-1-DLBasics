{
  "nbformat": 4,
  "nbformat_minor": 0,
  "metadata": {
    "colab": {
      "name": "Untitled0.ipynb",
      "provenance": []
    },
    "kernelspec": {
      "name": "python3",
      "display_name": "Python 3"
    }
  },
  "cells": [
    {
      "source": [
        "# NumPy Refresher \n",
        "Numpy is the fundamental package for scientific computing in Python. \n",
        "\n",
        "It is a Python library that provides a multidimensional array object, various derived objects (such as masked arrays and matrices), and an assortment of routines for fast operations on arrays, including mathematical, logical, shape manipulation, sorting, selecting, I/O, discrete Fourier transforms, basic linear algebra, basic statistical operations, random simulation and much more.\n",
        "\n",
        "At the core of the NumPy package, is the ndarray object. This encapsulates n-dimensional arrays of homogeneous data types, with many operations being performed in compiled code for performance."
      ],
      "cell_type": "markdown",
      "metadata": {
        "id": "DAWb2E_Oi6Ks"
      }
    },
    {
      "cell_type": "code",
      "metadata": {
        "id": "tvhYC0VAi429"
      },
      "source": [
        "import numpy as np "
      ],
      "execution_count": 7,
      "outputs": []
    },
    {
      "source": [
        "## Array creation"
      ],
      "cell_type": "markdown",
      "metadata": {}
    },
    {
      "cell_type": "code",
      "execution_count": 8,
      "metadata": {},
      "outputs": [
        {
          "output_type": "stream",
          "name": "stdout",
          "text": [
            "<class 'numpy.ndarray'>\n(3,)\n"
          ]
        }
      ],
      "source": [
        "# It's possible to create an array directly from a python list\n",
        "\n",
        "vector = np.array([1, 2, 3])   # Create a rank 1 array i.e a vector\n",
        "\n",
        "# Looking at the type and shape of this new vector object\n",
        "print(type(vector))            # Prints \"<class 'numpy.ndarray'>\"\n",
        "print(vector.shape)            # Prints \"(3,)\" "
      ]
    },
    {
      "cell_type": "code",
      "execution_count": 9,
      "metadata": {},
      "outputs": [
        {
          "output_type": "stream",
          "name": "stdout",
          "text": [
            "1\n3\n"
          ]
        }
      ],
      "source": [
        "# It's possible to access directly an element by indexing\n",
        "print(vector[0])               # Prints 1 it's 0 based indexing\n",
        "print(vector[2])               # Prints 3"
      ]
    },
    {
      "cell_type": "code",
      "execution_count": 10,
      "metadata": {},
      "outputs": [
        {
          "output_type": "stream",
          "name": "stdout",
          "text": [
            "[5 2 3]\n"
          ]
        }
      ],
      "source": [
        "# It's also possible to change an element of this array by indexing\n",
        "vector[0] = 5                  # Change an element of the array\n",
        "print(vector)                  # Prints \"[5, 2, 3]\""
      ]
    },
    {
      "cell_type": "code",
      "execution_count": 11,
      "metadata": {},
      "outputs": [
        {
          "output_type": "stream",
          "name": "stdout",
          "text": [
            "(2, 3)\n1\n[[1. 0.]\n [0. 1.]]\n"
          ]
        }
      ],
      "source": [
        "# It's also possible to create matrix or tensor\n",
        "matrix = np.array([[1,2,3],[4,5,6]])    # Create a rank 2 array i.e a matrix\n",
        "print(matrix.shape)                     # Prints \"(2, 3)\" note it's a row-major array\n",
        "print(matrix[0, 0])                     # Prints \"1 2 4\"\n",
        "\n",
        "# It also provide some builtin way to create matrix or tensor\n",
        "identity = np.eye(2)                    # Create a 2x2 identity matrix\n",
        "print(identity)                                # Prints \"[[ 1.  0.]\n",
        "                                        #          [ 0.  1.]]\""
      ]
    },
    {
      "cell_type": "code",
      "execution_count": 12,
      "metadata": {},
      "outputs": [
        {
          "output_type": "stream",
          "name": "stdout",
          "text": [
            "[[[0. 0.]\n  [0. 0.]]\n\n [[0. 0.]\n  [0. 0.]]]\n"
          ]
        }
      ],
      "source": [
        "tensor = np.zeros((2,2,2))   # Create an tensor of shape [2,2,2] of all zeros\n",
        "print(tensor)                # Prints [[[0. 0.]\n",
        "                             #          [0. 0.]]\n",
        "                             #          [[0. 0.]\n",
        "                             #          [0. 0.]]]      "
      ]
    },
    {
      "cell_type": "code",
      "execution_count": 13,
      "metadata": {},
      "outputs": [
        {
          "output_type": "stream",
          "name": "stdout",
          "text": [
            "[[[0.93944818 0.88410888 0.5189561  0.13900495]\n  [0.8617814  0.31840763 0.34943775 0.63781751]\n  [0.43311736 0.4080262  0.53492741 0.05812257]]\n\n [[0.57007189 0.51805189 0.83640699 0.68348963]\n  [0.14983632 0.51358727 0.43516613 0.07686464]\n  [0.42031885 0.66835171 0.07127821 0.32511526]]]\n"
          ]
        }
      ],
      "source": [
        "random_tensor = np.random.random((2,3,4)) # Should output random float \n",
        "print(random_tensor)                      # in the shape [2,3,4]"
      ]
    },
    {
      "source": [
        "## Some exercices "
      ],
      "cell_type": "markdown",
      "metadata": {}
    },
    {
      "cell_type": "code",
      "metadata": {
        "id": "4CQjsT0UjCWO"
      },
      "source": [
        "\n",
        "# Create a vector with 5 elements from 0 to 4\n",
        "def my_first_array():\n",
        "  return np.array([0,1,2,3,4])\n",
        "\n",
        "print(my_first_array())\n"
      ],
      "execution_count": 15,
      "outputs": [
        {
          "output_type": "stream",
          "name": "stdout",
          "text": [
            "[0 1 2 3 4]\n"
          ]
        }
      ]
    },
    {
      "cell_type": "code",
      "execution_count": 20,
      "metadata": {},
      "outputs": [
        {
          "output_type": "stream",
          "name": "stdout",
          "text": [
            "[[0 1 2 3 4]\n [5 6 7 8 9]]\n"
          ]
        }
      ],
      "source": [
        "# Create a matrix 2x5 with 10 elements from 0 to 9\n",
        "def my_first_matrix():\n",
        "  return np.arange(10).reshape(2,5)\n",
        "\n",
        "print(my_first_matrix())"
      ]
    },
    {
      "cell_type": "code",
      "execution_count": null,
      "metadata": {},
      "outputs": [],
      "source": []
    }
  ]
}